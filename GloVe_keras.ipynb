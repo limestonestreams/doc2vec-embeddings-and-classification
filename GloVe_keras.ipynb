{
  "nbformat": 4,
  "nbformat_minor": 0,
  "metadata": {
    "colab": {
      "name": "GloVe_keras.ipynb",
      "provenance": [],
      "collapsed_sections": [],
      "authorship_tag": "ABX9TyMLlJZuYF5BCSbBBuArQJNC",
      "include_colab_link": true
    },
    "kernelspec": {
      "name": "python3",
      "display_name": "Python 3"
    }
  },
  "cells": [
    {
      "cell_type": "markdown",
      "metadata": {
        "id": "view-in-github",
        "colab_type": "text"
      },
      "source": [
        "<a href=\"https://colab.research.google.com/github/limestonestreams/thesis/blob/master/GloVe_keras.ipynb\" target=\"_parent\"><img src=\"https://colab.research.google.com/assets/colab-badge.svg\" alt=\"Open In Colab\"/></a>"
      ]
    },
    {
      "cell_type": "markdown",
      "metadata": {
        "id": "Moh1tAho_t_C",
        "colab_type": "text"
      },
      "source": [
        "Importing my RData objects:"
      ]
    },
    {
      "cell_type": "code",
      "metadata": {
        "id": "5RXTOC-JWKrD",
        "colab_type": "code",
        "colab": {}
      },
      "source": [
        "import pandas as pd\n",
        "\n",
        "sentences = pd.read_feather(\"sentences.feather\")"
      ],
      "execution_count": 22,
      "outputs": []
    },
    {
      "cell_type": "markdown",
      "metadata": {
        "id": "RXmqoyloG7mm",
        "colab_type": "text"
      },
      "source": [
        "Subsetting to a dataset with speeches only by the US and Russia:"
      ]
    },
    {
      "cell_type": "code",
      "metadata": {
        "id": "3sXcsmqxHQjP",
        "colab_type": "code",
        "colab": {
          "base_uri": "https://localhost:8080/",
          "height": 887
        },
        "outputId": "2d496283-864b-415a-cc52-05aefaeaca33"
      },
      "source": [
        "data = sentences.loc[sentences['country'].isin(['United States Of America', 'Russian Federation'])]\n",
        "print(data['country'])\n",
        "\n",
        "print(data['country'].value_counts())\n",
        "data[\"country\"] = data[\"country\"].astype('category')\n",
        "data[\"country\"] = data[\"country\"].cat.codes\n",
        "print(data[\"country\"].value_counts())\n",
        "\n",
        "# 129 - Russia\n",
        "# 169 - US\n",
        "\n",
        "data.loc[data['country'] == 129, 'country'] = 1\n",
        "data.loc[data['country'] == 169, 'country'] = 0\n",
        "print(data[\"country\"].value_counts())\n",
        "\n",
        "# 1 - Russia\n",
        "# 0 - US"
      ],
      "execution_count": 24,
      "outputs": [
        {
          "output_type": "stream",
          "text": [
            "120       Russian Federation\n",
            "121       Russian Federation\n",
            "122       Russian Federation\n",
            "123       Russian Federation\n",
            "124       Russian Federation\n",
            "                 ...        \n",
            "430449    Russian Federation\n",
            "430450    Russian Federation\n",
            "430451    Russian Federation\n",
            "430452    Russian Federation\n",
            "430453    Russian Federation\n",
            "Name: country, Length: 50871, dtype: category\n",
            "Categories (179, object): [Afghanistan, Albania, Algeria, Angola, ..., Yemen, Yugoslavia, Zambia, Zimbabwe]\n",
            "United States Of America    26900\n",
            "Russian Federation          23971\n",
            "Zimbabwe                        0\n",
            "Finland                         0\n",
            "Guatemala                       0\n",
            "                            ...  \n",
            "Norway                          0\n",
            "Nigeria                         0\n",
            "Niger                           0\n",
            "Nicaragua                       0\n",
            "Afghanistan                     0\n",
            "Name: country, Length: 179, dtype: int64\n",
            "169    26900\n",
            "129    23971\n",
            "Name: country, dtype: int64\n",
            "0    26900\n",
            "1    23971\n",
            "Name: country, dtype: int64\n"
          ],
          "name": "stdout"
        },
        {
          "output_type": "stream",
          "text": [
            "/usr/local/lib/python3.6/dist-packages/ipykernel_launcher.py:5: SettingWithCopyWarning: \n",
            "A value is trying to be set on a copy of a slice from a DataFrame.\n",
            "Try using .loc[row_indexer,col_indexer] = value instead\n",
            "\n",
            "See the caveats in the documentation: https://pandas.pydata.org/pandas-docs/stable/user_guide/indexing.html#returning-a-view-versus-a-copy\n",
            "  \"\"\"\n",
            "/usr/local/lib/python3.6/dist-packages/ipykernel_launcher.py:6: SettingWithCopyWarning: \n",
            "A value is trying to be set on a copy of a slice from a DataFrame.\n",
            "Try using .loc[row_indexer,col_indexer] = value instead\n",
            "\n",
            "See the caveats in the documentation: https://pandas.pydata.org/pandas-docs/stable/user_guide/indexing.html#returning-a-view-versus-a-copy\n",
            "  \n",
            "/usr/local/lib/python3.6/dist-packages/pandas/core/indexing.py:966: SettingWithCopyWarning: \n",
            "A value is trying to be set on a copy of a slice from a DataFrame.\n",
            "Try using .loc[row_indexer,col_indexer] = value instead\n",
            "\n",
            "See the caveats in the documentation: https://pandas.pydata.org/pandas-docs/stable/user_guide/indexing.html#returning-a-view-versus-a-copy\n",
            "  self.obj[item] = s\n"
          ],
          "name": "stderr"
        }
      ]
    },
    {
      "cell_type": "markdown",
      "metadata": {
        "id": "NxuU6qtIJ6tZ",
        "colab_type": "text"
      },
      "source": [
        "Splitting into training and testing set:"
      ]
    },
    {
      "cell_type": "code",
      "metadata": {
        "id": "d4gHVF57J9o7",
        "colab_type": "code",
        "colab": {
          "base_uri": "https://localhost:8080/",
          "height": 72
        },
        "outputId": "3d736df6-5833-422d-cb0c-0676f21c1a71"
      },
      "source": [
        "from sklearn.model_selection import train_test_split\n",
        "\n",
        "s = data['text'].values\n",
        "y = data['country'].values\n",
        "\n",
        "s_train, s_test, y_train, y_test = train_test_split(s, y, test_size = 0.2, random_state = 1000)\n",
        "\n",
        "from keras.preprocessing.text import Tokenizer\n",
        "\n",
        "tokenizer = Tokenizer(num_words = 5000)\n",
        "tokenizer.fit_on_texts(s_train)\n",
        "\n",
        "X_train = tokenizer.texts_to_sequences(s_train)\n",
        "X_test = tokenizer.texts_to_sequences(s_test)\n",
        "\n",
        "vocab_size = len(tokenizer.word_index) + 1  # Adding 1 because of reserved 0 index\n",
        "\n",
        "print(s_train[2])\n",
        "print(X_train[2])"
      ],
      "execution_count": 25,
      "outputs": [
        {
          "output_type": "stream",
          "text": [
            "Despite the fact that the report rightly calls Ukrainian society bilingual, the true position of the Russian-speaking population is not reflected in it at all.\n",
            "[405, 1, 213, 6, 1, 79, 2976, 707, 243, 430, 1, 1079, 376, 2, 1, 82, 1476, 418, 10, 24, 1352, 5, 17, 46, 30]\n"
          ],
          "name": "stdout"
        }
      ]
    },
    {
      "cell_type": "markdown",
      "metadata": {
        "id": "LTNhVf4uKYFE",
        "colab_type": "text"
      },
      "source": [
        "Padding sentences:"
      ]
    },
    {
      "cell_type": "code",
      "metadata": {
        "id": "feHF2f8OKaqs",
        "colab_type": "code",
        "colab": {
          "base_uri": "https://localhost:8080/",
          "height": 156
        },
        "outputId": "d1498e33-725e-4535-997f-d9511ad74f6b"
      },
      "source": [
        "from keras.preprocessing.sequence import pad_sequences\n",
        "\n",
        "maxlen = 100\n",
        "\n",
        "X_train = pad_sequences(X_train, padding = 'post', maxlen = maxlen)\n",
        "X_test = pad_sequences(X_test, padding = 'post', maxlen = maxlen)\n",
        "\n",
        "print(X_train[0, :])"
      ],
      "execution_count": 26,
      "outputs": [
        {
          "output_type": "stream",
          "text": [
            "[1127    1   14   27   70   41  162  593  202  938    6  548  123  198\n",
            "    0    0    0    0    0    0    0    0    0    0    0    0    0    0\n",
            "    0    0    0    0    0    0    0    0    0    0    0    0    0    0\n",
            "    0    0    0    0    0    0    0    0    0    0    0    0    0    0\n",
            "    0    0    0    0    0    0    0    0    0    0    0    0    0    0\n",
            "    0    0    0    0    0    0    0    0    0    0    0    0    0    0\n",
            "    0    0    0    0    0    0    0    0    0    0    0    0    0    0\n",
            "    0    0]\n"
          ],
          "name": "stdout"
        }
      ]
    },
    {
      "cell_type": "markdown",
      "metadata": {
        "id": "zsAywNuOD5-w",
        "colab_type": "text"
      },
      "source": [
        "Keras model setup:"
      ]
    },
    {
      "cell_type": "code",
      "metadata": {
        "id": "9JzQjeezD76G",
        "colab_type": "code",
        "colab": {
          "base_uri": "https://localhost:8080/",
          "height": 295
        },
        "outputId": "3707b95c-16b5-4ed4-9013-3fe6ec3f16a1"
      },
      "source": [
        "from tensorflow.keras.models import Sequential\n",
        "from tensorflow.keras import layers\n",
        "\n",
        "input_dim = X_train.shape[1]  # Number of features\n",
        "\n",
        "embedding_dim = 50\n",
        "\n",
        "model = Sequential()\n",
        "model.add(layers.Embedding(input_dim=vocab_size, \n",
        "                           output_dim=embedding_dim, \n",
        "                           input_length=maxlen))\n",
        "model.add(layers.Flatten())\n",
        "model.add(layers.Dense(10, activation='relu'))\n",
        "model.add(layers.Dense(1, activation = 'sigmoid'))\n",
        "\n",
        "model.compile(loss = 'binary_crossentropy', optimizer = 'sgd', metrics = ['accuracy'])\n",
        "\n",
        "model.summary()"
      ],
      "execution_count": 27,
      "outputs": [
        {
          "output_type": "stream",
          "text": [
            "Model: \"sequential\"\n",
            "_________________________________________________________________\n",
            "Layer (type)                 Output Shape              Param #   \n",
            "=================================================================\n",
            "embedding (Embedding)        (None, 100, 50)           964300    \n",
            "_________________________________________________________________\n",
            "flatten (Flatten)            (None, 5000)              0         \n",
            "_________________________________________________________________\n",
            "dense (Dense)                (None, 10)                50010     \n",
            "_________________________________________________________________\n",
            "dense_1 (Dense)              (None, 1)                 11        \n",
            "=================================================================\n",
            "Total params: 1,014,321\n",
            "Trainable params: 1,014,321\n",
            "Non-trainable params: 0\n",
            "_________________________________________________________________\n"
          ],
          "name": "stdout"
        }
      ]
    },
    {
      "cell_type": "markdown",
      "metadata": {
        "id": "3F1D1WEpEZ0l",
        "colab_type": "text"
      },
      "source": [
        "Keras model fit:"
      ]
    },
    {
      "cell_type": "code",
      "metadata": {
        "id": "DYqbSIazEbrI",
        "colab_type": "code",
        "colab": {
          "base_uri": "https://localhost:8080/",
          "height": 1000
        },
        "outputId": "d05453cf-2b5e-42ca-aac2-90513302db1a"
      },
      "source": [
        "history = model.fit(X_train, y_train, batch_size = 50, epochs = 50, verbose = True, validation_data = (X_test, y_test))"
      ],
      "execution_count": 43,
      "outputs": [
        {
          "output_type": "stream",
          "text": [
            "Epoch 1/50\n",
            "814/814 [==============================] - 4s 5ms/step - loss: 0.0246 - accuracy: 0.9963 - val_loss: 0.7974 - val_accuracy: 0.7959\n",
            "Epoch 2/50\n",
            "814/814 [==============================] - 4s 5ms/step - loss: 0.0260 - accuracy: 0.9954 - val_loss: 0.8006 - val_accuracy: 0.7947\n",
            "Epoch 3/50\n",
            "814/814 [==============================] - 4s 5ms/step - loss: 0.0300 - accuracy: 0.9939 - val_loss: 0.7956 - val_accuracy: 0.7945\n",
            "Epoch 4/50\n",
            "814/814 [==============================] - 4s 5ms/step - loss: 0.0237 - accuracy: 0.9959 - val_loss: 0.8916 - val_accuracy: 0.7826\n",
            "Epoch 5/50\n",
            "814/814 [==============================] - 4s 5ms/step - loss: 0.0240 - accuracy: 0.9957 - val_loss: 0.8136 - val_accuracy: 0.7952\n",
            "Epoch 6/50\n",
            "814/814 [==============================] - 4s 5ms/step - loss: 0.0232 - accuracy: 0.9965 - val_loss: 0.8642 - val_accuracy: 0.7872\n",
            "Epoch 7/50\n",
            "814/814 [==============================] - 4s 5ms/step - loss: 0.0225 - accuracy: 0.9964 - val_loss: 0.8572 - val_accuracy: 0.7868\n",
            "Epoch 8/50\n",
            "814/814 [==============================] - 4s 5ms/step - loss: 0.0221 - accuracy: 0.9966 - val_loss: 0.8361 - val_accuracy: 0.7946\n",
            "Epoch 9/50\n",
            "814/814 [==============================] - 4s 5ms/step - loss: 0.0275 - accuracy: 0.9952 - val_loss: 0.8248 - val_accuracy: 0.7930\n",
            "Epoch 10/50\n",
            "814/814 [==============================] - 4s 5ms/step - loss: 0.0209 - accuracy: 0.9967 - val_loss: 0.8341 - val_accuracy: 0.7942\n",
            "Epoch 11/50\n",
            "814/814 [==============================] - 4s 5ms/step - loss: 0.0205 - accuracy: 0.9969 - val_loss: 0.8928 - val_accuracy: 0.7887\n",
            "Epoch 12/50\n",
            "814/814 [==============================] - 4s 5ms/step - loss: 0.0209 - accuracy: 0.9965 - val_loss: 0.8457 - val_accuracy: 0.7945\n",
            "Epoch 13/50\n",
            "814/814 [==============================] - 4s 5ms/step - loss: 0.0199 - accuracy: 0.9969 - val_loss: 0.8518 - val_accuracy: 0.7953\n",
            "Epoch 14/50\n",
            "814/814 [==============================] - 4s 5ms/step - loss: 0.0206 - accuracy: 0.9962 - val_loss: 0.8587 - val_accuracy: 0.7952\n",
            "Epoch 15/50\n",
            "814/814 [==============================] - 4s 5ms/step - loss: 0.0184 - accuracy: 0.9976 - val_loss: 0.8668 - val_accuracy: 0.7937\n",
            "Epoch 16/50\n",
            "814/814 [==============================] - 4s 5ms/step - loss: 0.0188 - accuracy: 0.9970 - val_loss: 0.8630 - val_accuracy: 0.7948\n",
            "Epoch 17/50\n",
            "814/814 [==============================] - 4s 5ms/step - loss: 0.0177 - accuracy: 0.9975 - val_loss: 0.8739 - val_accuracy: 0.7930\n",
            "Epoch 18/50\n",
            "814/814 [==============================] - 4s 5ms/step - loss: 0.0183 - accuracy: 0.9970 - val_loss: 0.8799 - val_accuracy: 0.7934\n",
            "Epoch 19/50\n",
            "814/814 [==============================] - 4s 5ms/step - loss: 0.0171 - accuracy: 0.9974 - val_loss: 0.8795 - val_accuracy: 0.7927\n",
            "Epoch 20/50\n",
            "814/814 [==============================] - 4s 5ms/step - loss: 0.0176 - accuracy: 0.9971 - val_loss: 0.8841 - val_accuracy: 0.7931\n",
            "Epoch 21/50\n",
            "814/814 [==============================] - 4s 5ms/step - loss: 0.0194 - accuracy: 0.9967 - val_loss: 0.8863 - val_accuracy: 0.7915\n",
            "Epoch 22/50\n",
            "814/814 [==============================] - 4s 5ms/step - loss: 0.0170 - accuracy: 0.9973 - val_loss: 0.8899 - val_accuracy: 0.7935\n",
            "Epoch 23/50\n",
            "814/814 [==============================] - 4s 5ms/step - loss: 0.0152 - accuracy: 0.9981 - val_loss: 0.9603 - val_accuracy: 0.7851\n",
            "Epoch 24/50\n",
            "814/814 [==============================] - 4s 5ms/step - loss: 0.0154 - accuracy: 0.9979 - val_loss: 0.8998 - val_accuracy: 0.7922\n",
            "Epoch 25/50\n",
            "814/814 [==============================] - 4s 5ms/step - loss: 0.0157 - accuracy: 0.9975 - val_loss: 0.9061 - val_accuracy: 0.7906\n",
            "Epoch 26/50\n",
            "814/814 [==============================] - 4s 5ms/step - loss: 0.0151 - accuracy: 0.9979 - val_loss: 0.9028 - val_accuracy: 0.7920\n",
            "Epoch 27/50\n",
            "814/814 [==============================] - 4s 5ms/step - loss: 0.0149 - accuracy: 0.9978 - val_loss: 0.9099 - val_accuracy: 0.7921\n",
            "Epoch 28/50\n",
            "814/814 [==============================] - 4s 5ms/step - loss: 0.0145 - accuracy: 0.9979 - val_loss: 0.9141 - val_accuracy: 0.7913\n",
            "Epoch 29/50\n",
            "814/814 [==============================] - 4s 5ms/step - loss: 0.0150 - accuracy: 0.9978 - val_loss: 0.9193 - val_accuracy: 0.7914\n",
            "Epoch 30/50\n",
            "814/814 [==============================] - 4s 5ms/step - loss: 0.0140 - accuracy: 0.9979 - val_loss: 0.9215 - val_accuracy: 0.7924\n",
            "Epoch 31/50\n",
            "814/814 [==============================] - 4s 5ms/step - loss: 0.0138 - accuracy: 0.9979 - val_loss: 0.9263 - val_accuracy: 0.7922\n",
            "Epoch 32/50\n",
            "814/814 [==============================] - 4s 5ms/step - loss: 0.0186 - accuracy: 0.9970 - val_loss: 0.9201 - val_accuracy: 0.7900\n",
            "Epoch 33/50\n",
            "814/814 [==============================] - 4s 5ms/step - loss: 0.0135 - accuracy: 0.9979 - val_loss: 0.9267 - val_accuracy: 0.7917\n",
            "Epoch 34/50\n",
            "814/814 [==============================] - 4s 5ms/step - loss: 0.0133 - accuracy: 0.9982 - val_loss: 0.9353 - val_accuracy: 0.7915\n",
            "Epoch 35/50\n",
            "814/814 [==============================] - 4s 5ms/step - loss: 0.0129 - accuracy: 0.9981 - val_loss: 0.9398 - val_accuracy: 0.7905\n",
            "Epoch 36/50\n",
            "814/814 [==============================] - 4s 5ms/step - loss: 0.0122 - accuracy: 0.9981 - val_loss: 0.9640 - val_accuracy: 0.7857\n",
            "Epoch 37/50\n",
            "814/814 [==============================] - 4s 5ms/step - loss: 0.0130 - accuracy: 0.9979 - val_loss: 0.9435 - val_accuracy: 0.7906\n",
            "Epoch 38/50\n",
            "814/814 [==============================] - 4s 5ms/step - loss: 0.0140 - accuracy: 0.9974 - val_loss: 0.9467 - val_accuracy: 0.7909\n",
            "Epoch 39/50\n",
            "814/814 [==============================] - 4s 5ms/step - loss: 0.0123 - accuracy: 0.9983 - val_loss: 0.9523 - val_accuracy: 0.7906\n",
            "Epoch 40/50\n",
            "814/814 [==============================] - 4s 5ms/step - loss: 0.0126 - accuracy: 0.9979 - val_loss: 0.9968 - val_accuracy: 0.7840\n",
            "Epoch 41/50\n",
            "814/814 [==============================] - 4s 5ms/step - loss: 0.0198 - accuracy: 0.9961 - val_loss: 0.9326 - val_accuracy: 0.7890\n",
            "Epoch 42/50\n",
            "814/814 [==============================] - 4s 5ms/step - loss: 0.0118 - accuracy: 0.9985 - val_loss: 0.9779 - val_accuracy: 0.7899\n",
            "Epoch 43/50\n",
            "814/814 [==============================] - 4s 5ms/step - loss: 0.0127 - accuracy: 0.9981 - val_loss: 0.9533 - val_accuracy: 0.7892\n",
            "Epoch 44/50\n",
            "814/814 [==============================] - 4s 5ms/step - loss: 0.0117 - accuracy: 0.9983 - val_loss: 0.9765 - val_accuracy: 0.7870\n",
            "Epoch 45/50\n",
            "814/814 [==============================] - 4s 5ms/step - loss: 0.0114 - accuracy: 0.9981 - val_loss: 0.9657 - val_accuracy: 0.7911\n",
            "Epoch 46/50\n",
            "814/814 [==============================] - 4s 5ms/step - loss: 0.0113 - accuracy: 0.9981 - val_loss: 0.9785 - val_accuracy: 0.7903\n",
            "Epoch 47/50\n",
            "814/814 [==============================] - 4s 5ms/step - loss: 0.0116 - accuracy: 0.9982 - val_loss: 0.9790 - val_accuracy: 0.7900\n",
            "Epoch 48/50\n",
            "814/814 [==============================] - 4s 5ms/step - loss: 0.0113 - accuracy: 0.9983 - val_loss: 0.9874 - val_accuracy: 0.7901\n",
            "Epoch 49/50\n",
            "814/814 [==============================] - 4s 5ms/step - loss: 0.0105 - accuracy: 0.9985 - val_loss: 0.9961 - val_accuracy: 0.7865\n",
            "Epoch 50/50\n",
            "814/814 [==============================] - 4s 5ms/step - loss: 0.0107 - accuracy: 0.9985 - val_loss: 0.9831 - val_accuracy: 0.7904\n"
          ],
          "name": "stdout"
        }
      ]
    },
    {
      "cell_type": "markdown",
      "metadata": {
        "id": "0wKsQXM2LE1L",
        "colab_type": "text"
      },
      "source": [
        "Model evaluation:"
      ]
    },
    {
      "cell_type": "code",
      "metadata": {
        "id": "G3eYoiLMLHOZ",
        "colab_type": "code",
        "colab": {
          "base_uri": "https://localhost:8080/",
          "height": 52
        },
        "outputId": "e78fec3a-e1c6-4c52-cdc0-e44babc458c4"
      },
      "source": [
        "loss, accuracy = model.evaluate(X_train, y_train, verbose = False)\n",
        "print(\"Training Accuracy: {:.4f}\".format(accuracy))\n",
        "loss, accuracy = model.evaluate(X_test, y_test, verbose = False)\n",
        "print(\"Testing Accuracy:  {:.4f}\".format(accuracy))"
      ],
      "execution_count": 44,
      "outputs": [
        {
          "output_type": "stream",
          "text": [
            "Training Accuracy: 0.9989\n",
            "Testing Accuracy:  0.7904\n"
          ],
          "name": "stdout"
        }
      ]
    },
    {
      "cell_type": "markdown",
      "metadata": {
        "id": "Kr-aiA1pLprP",
        "colab_type": "text"
      },
      "source": [
        "Confusion matrix:"
      ]
    },
    {
      "cell_type": "code",
      "metadata": {
        "id": "CF5EHn1sLp-u",
        "colab_type": "code",
        "colab": {
          "base_uri": "https://localhost:8080/",
          "height": 52
        },
        "outputId": "949beb8e-a628-4fa9-a820-b5248f3b8544"
      },
      "source": [
        "# confusion matrix\n",
        "from sklearn.metrics import confusion_matrix\n",
        "\n",
        "pred_labels = model.predict_classes(X_test)\n",
        "conf_matrix = confusion_matrix(y_test, pred_labels)\n",
        "\n",
        "print(conf_matrix)"
      ],
      "execution_count": 45,
      "outputs": [
        {
          "output_type": "stream",
          "text": [
            "[[4348 1044]\n",
            " [1089 3694]]\n"
          ],
          "name": "stdout"
        }
      ]
    },
    {
      "cell_type": "markdown",
      "metadata": {
        "id": "fDu5CYynLViU",
        "colab_type": "text"
      },
      "source": [
        "Plotting model evaluation:"
      ]
    },
    {
      "cell_type": "code",
      "metadata": {
        "id": "-V2VokaALX9_",
        "colab_type": "code",
        "colab": {
          "base_uri": "https://localhost:8080/",
          "height": 337
        },
        "outputId": "888efa34-8a47-4153-cbcb-bfcfc3ad9d70"
      },
      "source": [
        "import matplotlib.pyplot as plt\n",
        "plt.style.use('ggplot')\n",
        "\n",
        "def plot_history(history):\n",
        "    acc = history.history['accuracy']\n",
        "    val_acc = history.history['val_accuracy']\n",
        "    loss = history.history['loss']\n",
        "    val_loss = history.history['val_loss']\n",
        "    x = range(1, len(acc) + 1)\n",
        "\n",
        "    plt.figure(figsize=(12, 5))\n",
        "    plt.subplot(1, 2, 1)\n",
        "    plt.plot(x, acc, 'b', label='Training acc')\n",
        "    plt.plot(x, val_acc, 'r', label='Validation acc')\n",
        "    plt.title('Training and validation accuracy')\n",
        "    plt.legend()\n",
        "    plt.subplot(1, 2, 2)\n",
        "    plt.plot(x, loss, 'b', label='Training loss')\n",
        "    plt.plot(x, val_loss, 'r', label='Validation loss')\n",
        "    plt.title('Training and validation loss')\n",
        "    plt.legend()\n",
        "\n",
        "plot_history(history)"
      ],
      "execution_count": 46,
      "outputs": [
        {
          "output_type": "display_data",
          "data": {
            "image/png": "[encoded data removed]",
            "text/plain": [
              "<Figure size 864x360 with 2 Axes>"
            ]
          },
          "metadata": {
            "tags": []
          }
        }
      ]
    }
  ]
}