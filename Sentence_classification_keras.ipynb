{
  "nbformat": 4,
  "nbformat_minor": 0,
  "metadata": {
    "colab": {
      "name": "Sentence classification keras.ipynb",
      "provenance": [],
      "collapsed_sections": [],
      "authorship_tag": "ABX9TyMWxnRLvLCHhY4nBARizRLY",
      "include_colab_link": true
    },
    "kernelspec": {
      "name": "python3",
      "display_name": "Python 3"
    }
  },
  "cells": [
    {
      "cell_type": "markdown",
      "metadata": {
        "id": "view-in-github",
        "colab_type": "text"
      },
      "source": [
        "<a href=\"https://colab.research.google.com/github/limestonestreams/thesis/blob/master/Sentence_classification_keras.ipynb\" target=\"_parent\"><img src=\"https://colab.research.google.com/assets/colab-badge.svg\" alt=\"Open In Colab\"/></a>"
      ]
    },
    {
      "cell_type": "markdown",
      "metadata": {
        "id": "u9kKRRoq2wQv",
        "colab_type": "text"
      },
      "source": [
        "From https://realpython.com/python-keras-text-classification/"
      ]
    },
    {
      "cell_type": "markdown",
      "metadata": {
        "id": "sRUnvU_4732C",
        "colab_type": "text"
      },
      "source": [
        "Importing the data:"
      ]
    },
    {
      "cell_type": "code",
      "metadata": {
        "id": "ieHni-zg2rq5",
        "colab_type": "code",
        "colab": {
          "base_uri": "https://localhost:8080/",
          "height": 191
        },
        "outputId": "59e33dca-1a6f-4461-c84c-2af7a8f37564"
      },
      "source": [
        "# reading excel file\n",
        "import pandas\n",
        "label_data = pandas.read_excel (r'https://github.com/limestonestreams/thesis/blob/master/label_data.xlsx?raw=true', sheet_name = 'Sheet1')\n",
        "\n",
        "# turning into pandas dataframe\n",
        "df = pandas.DataFrame(label_data)\n",
        "\n",
        "print(df.iloc[0])"
      ],
      "execution_count": 107,
      "outputs": [
        {
          "output_type": "stream",
          "text": [
            "doc_id                                            text13066.1\n",
            "text        The Kingdom of the Netherlands stands firmly  ...\n",
            "filename                       UNSC_2018_SPV.8250_spch015.txt\n",
            "year                                                     2018\n",
            "country                                           Netherlands\n",
            "topic                                  Libyan Arab Jamahiriya\n",
            "title              Netherlands on Libyan Arab Jamahiriya 2018\n",
            "date                                               9 May 2018\n",
            "class                                              irrelevant\n",
            "Name: 0, dtype: object\n"
          ],
          "name": "stdout"
        }
      ]
    },
    {
      "cell_type": "markdown",
      "metadata": {
        "id": "5aCFZENTNXgt",
        "colab_type": "text"
      },
      "source": [
        "Changing labels column to numeric for input into keras model:"
      ]
    },
    {
      "cell_type": "code",
      "metadata": {
        "id": "6e9d4AaHInyj",
        "colab_type": "code",
        "colab": {
          "base_uri": "https://localhost:8080/",
          "height": 260
        },
        "outputId": "dac75705-4fee-4803-c33e-0271b0893ddc"
      },
      "source": [
        "df.dtypes\n",
        "print(df['class'].value_counts())\n",
        "df[\"class\"] = df[\"class\"].astype('category')\n",
        "df[\"class\"] = df[\"class\"].cat.codes\n",
        "print(df[\"class\"].value_counts())\n",
        "\n",
        "# 0 - against\n",
        "# 1 - delegitimizing\n",
        "# 2 - for\n",
        "# 3 - humanizing\n",
        "# 4 - irrelevant\n",
        "# 5 - legitimizing"
      ],
      "execution_count": 108,
      "outputs": [
        {
          "output_type": "stream",
          "text": [
            "irrelevant        728\n",
            "for                84\n",
            "against            77\n",
            "legitimizing       46\n",
            "delegitimizing     45\n",
            "humanizing         20\n",
            "Name: class, dtype: int64\n",
            "4    728\n",
            "2     84\n",
            "0     77\n",
            "5     46\n",
            "1     45\n",
            "3     20\n",
            "Name: class, dtype: int64\n"
          ],
          "name": "stdout"
        }
      ]
    },
    {
      "cell_type": "markdown",
      "metadata": {
        "id": "pBY3c0XnQBq8",
        "colab_type": "text"
      },
      "source": [
        "Re-coding non-irrelevant categories to relevant:"
      ]
    },
    {
      "cell_type": "code",
      "metadata": {
        "id": "_90IYQo4QF8Q",
        "colab_type": "code",
        "colab": {
          "base_uri": "https://localhost:8080/",
          "height": 69
        },
        "outputId": "90ec8d81-6221-4dda-d0c5-059c4e22a6f1"
      },
      "source": [
        "df.loc[df['class'] != 4, 'class'] = 1\n",
        "df.loc[df['class'] == 4, 'class'] = 0\n",
        "print(df[\"class\"].value_counts())"
      ],
      "execution_count": 109,
      "outputs": [
        {
          "output_type": "stream",
          "text": [
            "0    728\n",
            "1    272\n",
            "Name: class, dtype: int64\n"
          ],
          "name": "stdout"
        }
      ]
    },
    {
      "cell_type": "markdown",
      "metadata": {
        "id": "mDdz2Ls4BCF0",
        "colab_type": "text"
      },
      "source": [
        "Splitting into training and testing set:"
      ]
    },
    {
      "cell_type": "code",
      "metadata": {
        "id": "YUtPj0VUBG37",
        "colab_type": "code",
        "colab": {
          "base_uri": "https://localhost:8080/",
          "height": 52
        },
        "outputId": "704989a6-a491-4b62-c3eb-9bc0434c7283"
      },
      "source": [
        "from sklearn.model_selection import train_test_split\n",
        "\n",
        "sentences = df['text'].values\n",
        "y = df['class'].values\n",
        "\n",
        "sentences_train, sentences_test, y_train, y_test = train_test_split(sentences, y, test_size = 0.2, random_state = 1000)\n",
        "\n",
        "from keras.preprocessing.text import Tokenizer\n",
        "\n",
        "tokenizer = Tokenizer(num_words = 5000)\n",
        "tokenizer.fit_on_texts(sentences_train)\n",
        "\n",
        "X_train = tokenizer.texts_to_sequences(sentences_train)\n",
        "X_test = tokenizer.texts_to_sequences(sentences_test)\n",
        "\n",
        "vocab_size = len(tokenizer.word_index) + 1  # Adding 1 because of reserved 0 index\n",
        "\n",
        "print(sentences_train[2])\n",
        "print(X_train[2])"
      ],
      "execution_count": 110,
      "outputs": [
        {
          "output_type": "stream",
          "text": [
            "EULEX has established good cooperation with the authorities in Belgrade and Tirana.\n",
            "[816, 21, 234, 334, 191, 13, 1, 166, 5, 817, 4, 1626]\n"
          ],
          "name": "stdout"
        }
      ]
    },
    {
      "cell_type": "markdown",
      "metadata": {
        "id": "v-FlbCZ4CdoS",
        "colab_type": "text"
      },
      "source": [
        "Padding sentences:"
      ]
    },
    {
      "cell_type": "code",
      "metadata": {
        "id": "9egHgZIOCiDD",
        "colab_type": "code",
        "colab": {
          "base_uri": "https://localhost:8080/",
          "height": 156
        },
        "outputId": "1fa7e938-3829-4f4d-8b50-bfd190bcda3e"
      },
      "source": [
        "from keras.preprocessing.sequence import pad_sequences\n",
        "\n",
        "maxlen = 100\n",
        "\n",
        "X_train = pad_sequences(X_train, padding = 'post', maxlen = maxlen)\n",
        "X_test = pad_sequences(X_test, padding = 'post', maxlen = maxlen)\n",
        "\n",
        "print(X_train[0, :])"
      ],
      "execution_count": 111,
      "outputs": [
        {
          "output_type": "stream",
          "text": [
            "[  13    7  386 1098    2  293    4  529  208    1 1099    4    1  127\n",
            " 1100  530    4   69  815    5   75   50  387  454    3   30  647  127\n",
            "  455   30  191    4 1101 1625   30  294    0    0    0    0    0    0\n",
            "    0    0    0    0    0    0    0    0    0    0    0    0    0    0\n",
            "    0    0    0    0    0    0    0    0    0    0    0    0    0    0\n",
            "    0    0    0    0    0    0    0    0    0    0    0    0    0    0\n",
            "    0    0    0    0    0    0    0    0    0    0    0    0    0    0\n",
            "    0    0]\n"
          ],
          "name": "stdout"
        }
      ]
    },
    {
      "cell_type": "markdown",
      "metadata": {
        "id": "zsAywNuOD5-w",
        "colab_type": "text"
      },
      "source": [
        "Keras model setup:"
      ]
    },
    {
      "cell_type": "code",
      "metadata": {
        "id": "9JzQjeezD76G",
        "colab_type": "code",
        "colab": {
          "base_uri": "https://localhost:8080/",
          "height": 295
        },
        "outputId": "70b3cf5e-d108-44de-a5c4-b1e82fb42755"
      },
      "source": [
        "from tensorflow.keras.models import Sequential\n",
        "from tensorflow.keras import layers\n",
        "\n",
        "input_dim = X_train.shape[1]  # Number of features\n",
        "\n",
        "embedding_dim = 50\n",
        "\n",
        "model = Sequential()\n",
        "model.add(layers.Embedding(input_dim=vocab_size, \n",
        "                           output_dim=embedding_dim, \n",
        "                           input_length=maxlen))\n",
        "model.add(layers.Flatten())\n",
        "model.add(layers.Dense(10, activation='relu'))\n",
        "model.add(layers.Dense(1, activation = 'sigmoid'))\n",
        "\n",
        "model.compile(loss = 'binary_crossentropy', optimizer = 'sgd', metrics = ['accuracy'])\n",
        "\n",
        "model.summary()"
      ],
      "execution_count": 118,
      "outputs": [
        {
          "output_type": "stream",
          "text": [
            "Model: \"sequential_10\"\n",
            "_________________________________________________________________\n",
            "Layer (type)                 Output Shape              Param #   \n",
            "=================================================================\n",
            "embedding_6 (Embedding)      (None, 100, 50)           172650    \n",
            "_________________________________________________________________\n",
            "flatten_5 (Flatten)          (None, 5000)              0         \n",
            "_________________________________________________________________\n",
            "dense_20 (Dense)             (None, 10)                50010     \n",
            "_________________________________________________________________\n",
            "dense_21 (Dense)             (None, 1)                 11        \n",
            "=================================================================\n",
            "Total params: 222,671\n",
            "Trainable params: 222,671\n",
            "Non-trainable params: 0\n",
            "_________________________________________________________________\n"
          ],
          "name": "stdout"
        }
      ]
    },
    {
      "cell_type": "markdown",
      "metadata": {
        "id": "3F1D1WEpEZ0l",
        "colab_type": "text"
      },
      "source": [
        "Keras model fit:"
      ]
    },
    {
      "cell_type": "code",
      "metadata": {
        "id": "DYqbSIazEbrI",
        "colab_type": "code",
        "colab": {
          "base_uri": "https://localhost:8080/",
          "height": 1000
        },
        "outputId": "02a634a4-30e8-48b1-e6eb-80e53a3a851c"
      },
      "source": [
        "history = model.fit(X_train, y_train, batch_size = 5, epochs = 100, verbose = True, validation_data = (X_test, y_test))"
      ],
      "execution_count": 131,
      "outputs": [
        {
          "output_type": "stream",
          "text": [
            "Epoch 1/100\n",
            "160/160 [==============================] - 0s 3ms/step - loss: 0.0063 - accuracy: 1.0000 - val_loss: 1.2438 - val_accuracy: 0.6750\n",
            "Epoch 2/100\n",
            "160/160 [==============================] - 0s 3ms/step - loss: 0.0062 - accuracy: 1.0000 - val_loss: 1.2700 - val_accuracy: 0.6700\n",
            "Epoch 3/100\n",
            "160/160 [==============================] - 0s 2ms/step - loss: 0.0060 - accuracy: 1.0000 - val_loss: 1.2688 - val_accuracy: 0.6700\n",
            "Epoch 4/100\n",
            "160/160 [==============================] - 0s 2ms/step - loss: 0.0059 - accuracy: 1.0000 - val_loss: 1.2896 - val_accuracy: 0.6650\n",
            "Epoch 5/100\n",
            "160/160 [==============================] - 0s 2ms/step - loss: 0.0057 - accuracy: 1.0000 - val_loss: 1.2922 - val_accuracy: 0.6650\n",
            "Epoch 6/100\n",
            "160/160 [==============================] - 0s 2ms/step - loss: 0.0056 - accuracy: 1.0000 - val_loss: 1.2974 - val_accuracy: 0.6650\n",
            "Epoch 7/100\n",
            "160/160 [==============================] - 0s 2ms/step - loss: 0.0055 - accuracy: 1.0000 - val_loss: 1.2830 - val_accuracy: 0.6700\n",
            "Epoch 8/100\n",
            "160/160 [==============================] - 0s 3ms/step - loss: 0.0053 - accuracy: 1.0000 - val_loss: 1.2834 - val_accuracy: 0.6750\n",
            "Epoch 9/100\n",
            "160/160 [==============================] - 0s 3ms/step - loss: 0.0052 - accuracy: 1.0000 - val_loss: 1.3228 - val_accuracy: 0.6700\n",
            "Epoch 10/100\n",
            "160/160 [==============================] - 0s 2ms/step - loss: 0.0051 - accuracy: 1.0000 - val_loss: 1.2879 - val_accuracy: 0.6750\n",
            "Epoch 11/100\n",
            "160/160 [==============================] - 0s 2ms/step - loss: 0.0050 - accuracy: 1.0000 - val_loss: 1.3108 - val_accuracy: 0.6650\n",
            "Epoch 12/100\n",
            "160/160 [==============================] - 0s 2ms/step - loss: 0.0049 - accuracy: 1.0000 - val_loss: 1.3079 - val_accuracy: 0.6750\n",
            "Epoch 13/100\n",
            "160/160 [==============================] - 0s 2ms/step - loss: 0.0048 - accuracy: 1.0000 - val_loss: 1.3222 - val_accuracy: 0.6650\n",
            "Epoch 14/100\n",
            "160/160 [==============================] - 0s 2ms/step - loss: 0.0047 - accuracy: 1.0000 - val_loss: 1.3012 - val_accuracy: 0.6750\n",
            "Epoch 15/100\n",
            "160/160 [==============================] - 0s 2ms/step - loss: 0.0046 - accuracy: 1.0000 - val_loss: 1.3185 - val_accuracy: 0.6750\n",
            "Epoch 16/100\n",
            "160/160 [==============================] - 0s 3ms/step - loss: 0.0045 - accuracy: 1.0000 - val_loss: 1.3113 - val_accuracy: 0.6750\n",
            "Epoch 17/100\n",
            "160/160 [==============================] - 0s 3ms/step - loss: 0.0044 - accuracy: 1.0000 - val_loss: 1.3251 - val_accuracy: 0.6700\n",
            "Epoch 18/100\n",
            "160/160 [==============================] - 0s 3ms/step - loss: 0.0043 - accuracy: 1.0000 - val_loss: 1.3329 - val_accuracy: 0.6650\n",
            "Epoch 19/100\n",
            "160/160 [==============================] - 0s 2ms/step - loss: 0.0043 - accuracy: 1.0000 - val_loss: 1.3279 - val_accuracy: 0.6750\n",
            "Epoch 20/100\n",
            "160/160 [==============================] - 0s 2ms/step - loss: 0.0042 - accuracy: 1.0000 - val_loss: 1.3297 - val_accuracy: 0.6700\n",
            "Epoch 21/100\n",
            "160/160 [==============================] - 0s 3ms/step - loss: 0.0041 - accuracy: 1.0000 - val_loss: 1.3251 - val_accuracy: 0.6750\n",
            "Epoch 22/100\n",
            "160/160 [==============================] - 0s 2ms/step - loss: 0.0040 - accuracy: 1.0000 - val_loss: 1.3324 - val_accuracy: 0.6750\n",
            "Epoch 23/100\n",
            "160/160 [==============================] - 0s 2ms/step - loss: 0.0039 - accuracy: 1.0000 - val_loss: 1.3254 - val_accuracy: 0.6700\n",
            "Epoch 24/100\n",
            "160/160 [==============================] - 0s 2ms/step - loss: 0.0039 - accuracy: 1.0000 - val_loss: 1.3543 - val_accuracy: 0.6650\n",
            "Epoch 25/100\n",
            "160/160 [==============================] - 0s 3ms/step - loss: 0.0038 - accuracy: 1.0000 - val_loss: 1.3302 - val_accuracy: 0.6700\n",
            "Epoch 26/100\n",
            "160/160 [==============================] - 0s 2ms/step - loss: 0.0038 - accuracy: 1.0000 - val_loss: 1.3589 - val_accuracy: 0.6750\n",
            "Epoch 27/100\n",
            "160/160 [==============================] - 0s 2ms/step - loss: 0.0037 - accuracy: 1.0000 - val_loss: 1.3566 - val_accuracy: 0.6700\n",
            "Epoch 28/100\n",
            "160/160 [==============================] - 0s 3ms/step - loss: 0.0036 - accuracy: 1.0000 - val_loss: 1.3455 - val_accuracy: 0.6750\n",
            "Epoch 29/100\n",
            "160/160 [==============================] - 0s 3ms/step - loss: 0.0036 - accuracy: 1.0000 - val_loss: 1.3676 - val_accuracy: 0.6750\n",
            "Epoch 30/100\n",
            "160/160 [==============================] - 0s 3ms/step - loss: 0.0035 - accuracy: 1.0000 - val_loss: 1.3516 - val_accuracy: 0.6750\n",
            "Epoch 31/100\n",
            "160/160 [==============================] - 0s 2ms/step - loss: 0.0034 - accuracy: 1.0000 - val_loss: 1.3620 - val_accuracy: 0.6700\n",
            "Epoch 32/100\n",
            "160/160 [==============================] - 0s 2ms/step - loss: 0.0034 - accuracy: 1.0000 - val_loss: 1.3640 - val_accuracy: 0.6750\n",
            "Epoch 33/100\n",
            "160/160 [==============================] - 0s 2ms/step - loss: 0.0033 - accuracy: 1.0000 - val_loss: 1.3648 - val_accuracy: 0.6750\n",
            "Epoch 34/100\n",
            "160/160 [==============================] - 0s 2ms/step - loss: 0.0033 - accuracy: 1.0000 - val_loss: 1.3788 - val_accuracy: 0.6750\n",
            "Epoch 35/100\n",
            "160/160 [==============================] - 0s 2ms/step - loss: 0.0032 - accuracy: 1.0000 - val_loss: 1.3876 - val_accuracy: 0.6700\n",
            "Epoch 36/100\n",
            "160/160 [==============================] - 0s 2ms/step - loss: 0.0032 - accuracy: 1.0000 - val_loss: 1.3714 - val_accuracy: 0.6750\n",
            "Epoch 37/100\n",
            "160/160 [==============================] - 0s 2ms/step - loss: 0.0031 - accuracy: 1.0000 - val_loss: 1.3905 - val_accuracy: 0.6750\n",
            "Epoch 38/100\n",
            "160/160 [==============================] - 0s 3ms/step - loss: 0.0031 - accuracy: 1.0000 - val_loss: 1.3951 - val_accuracy: 0.6700\n",
            "Epoch 39/100\n",
            "160/160 [==============================] - 0s 2ms/step - loss: 0.0030 - accuracy: 1.0000 - val_loss: 1.3788 - val_accuracy: 0.6750\n",
            "Epoch 40/100\n",
            "160/160 [==============================] - 0s 2ms/step - loss: 0.0030 - accuracy: 1.0000 - val_loss: 1.4079 - val_accuracy: 0.6650\n",
            "Epoch 41/100\n",
            "160/160 [==============================] - 0s 3ms/step - loss: 0.0030 - accuracy: 1.0000 - val_loss: 1.3936 - val_accuracy: 0.6750\n",
            "Epoch 42/100\n",
            "160/160 [==============================] - 0s 3ms/step - loss: 0.0029 - accuracy: 1.0000 - val_loss: 1.4078 - val_accuracy: 0.6650\n",
            "Epoch 43/100\n",
            "160/160 [==============================] - 0s 3ms/step - loss: 0.0029 - accuracy: 1.0000 - val_loss: 1.3843 - val_accuracy: 0.6700\n",
            "Epoch 44/100\n",
            "160/160 [==============================] - 0s 3ms/step - loss: 0.0028 - accuracy: 1.0000 - val_loss: 1.3913 - val_accuracy: 0.6750\n",
            "Epoch 45/100\n",
            "160/160 [==============================] - 0s 3ms/step - loss: 0.0028 - accuracy: 1.0000 - val_loss: 1.4133 - val_accuracy: 0.6700\n",
            "Epoch 46/100\n",
            "160/160 [==============================] - 0s 3ms/step - loss: 0.0028 - accuracy: 1.0000 - val_loss: 1.4124 - val_accuracy: 0.6700\n",
            "Epoch 47/100\n",
            "160/160 [==============================] - 0s 3ms/step - loss: 0.0027 - accuracy: 1.0000 - val_loss: 1.4220 - val_accuracy: 0.6650\n",
            "Epoch 48/100\n",
            "160/160 [==============================] - 0s 2ms/step - loss: 0.0027 - accuracy: 1.0000 - val_loss: 1.4062 - val_accuracy: 0.6750\n",
            "Epoch 49/100\n",
            "160/160 [==============================] - 0s 3ms/step - loss: 0.0026 - accuracy: 1.0000 - val_loss: 1.4095 - val_accuracy: 0.6700\n",
            "Epoch 50/100\n",
            "160/160 [==============================] - 0s 3ms/step - loss: 0.0026 - accuracy: 1.0000 - val_loss: 1.4180 - val_accuracy: 0.6700\n",
            "Epoch 51/100\n",
            "160/160 [==============================] - 0s 3ms/step - loss: 0.0026 - accuracy: 1.0000 - val_loss: 1.4048 - val_accuracy: 0.6700\n",
            "Epoch 52/100\n",
            "160/160 [==============================] - 0s 3ms/step - loss: 0.0025 - accuracy: 1.0000 - val_loss: 1.4202 - val_accuracy: 0.6700\n",
            "Epoch 53/100\n",
            "160/160 [==============================] - 0s 3ms/step - loss: 0.0025 - accuracy: 1.0000 - val_loss: 1.4144 - val_accuracy: 0.6750\n",
            "Epoch 54/100\n",
            "160/160 [==============================] - 0s 3ms/step - loss: 0.0025 - accuracy: 1.0000 - val_loss: 1.4150 - val_accuracy: 0.6750\n",
            "Epoch 55/100\n",
            "160/160 [==============================] - 0s 3ms/step - loss: 0.0024 - accuracy: 1.0000 - val_loss: 1.4184 - val_accuracy: 0.6750\n",
            "Epoch 56/100\n",
            "160/160 [==============================] - 0s 3ms/step - loss: 0.0024 - accuracy: 1.0000 - val_loss: 1.4133 - val_accuracy: 0.6700\n",
            "Epoch 57/100\n",
            "160/160 [==============================] - 0s 2ms/step - loss: 0.0024 - accuracy: 1.0000 - val_loss: 1.4313 - val_accuracy: 0.6700\n",
            "Epoch 58/100\n",
            "160/160 [==============================] - 0s 2ms/step - loss: 0.0024 - accuracy: 1.0000 - val_loss: 1.4298 - val_accuracy: 0.6750\n",
            "Epoch 59/100\n",
            "160/160 [==============================] - 0s 2ms/step - loss: 0.0023 - accuracy: 1.0000 - val_loss: 1.4470 - val_accuracy: 0.6700\n",
            "Epoch 60/100\n",
            "160/160 [==============================] - 0s 2ms/step - loss: 0.0023 - accuracy: 1.0000 - val_loss: 1.4440 - val_accuracy: 0.6750\n",
            "Epoch 61/100\n",
            "160/160 [==============================] - 0s 3ms/step - loss: 0.0023 - accuracy: 1.0000 - val_loss: 1.4413 - val_accuracy: 0.6750\n",
            "Epoch 62/100\n",
            "160/160 [==============================] - 0s 3ms/step - loss: 0.0022 - accuracy: 1.0000 - val_loss: 1.4446 - val_accuracy: 0.6750\n",
            "Epoch 63/100\n",
            "160/160 [==============================] - 0s 2ms/step - loss: 0.0022 - accuracy: 1.0000 - val_loss: 1.4459 - val_accuracy: 0.6750\n",
            "Epoch 64/100\n",
            "160/160 [==============================] - 0s 3ms/step - loss: 0.0022 - accuracy: 1.0000 - val_loss: 1.4463 - val_accuracy: 0.6700\n",
            "Epoch 65/100\n",
            "160/160 [==============================] - 0s 2ms/step - loss: 0.0022 - accuracy: 1.0000 - val_loss: 1.4414 - val_accuracy: 0.6750\n",
            "Epoch 66/100\n",
            "160/160 [==============================] - 0s 3ms/step - loss: 0.0021 - accuracy: 1.0000 - val_loss: 1.4548 - val_accuracy: 0.6700\n",
            "Epoch 67/100\n",
            "160/160 [==============================] - 0s 3ms/step - loss: 0.0021 - accuracy: 1.0000 - val_loss: 1.4599 - val_accuracy: 0.6700\n",
            "Epoch 68/100\n",
            "160/160 [==============================] - 0s 2ms/step - loss: 0.0021 - accuracy: 1.0000 - val_loss: 1.4561 - val_accuracy: 0.6750\n",
            "Epoch 69/100\n",
            "160/160 [==============================] - 0s 3ms/step - loss: 0.0021 - accuracy: 1.0000 - val_loss: 1.4685 - val_accuracy: 0.6700\n",
            "Epoch 70/100\n",
            "160/160 [==============================] - 0s 3ms/step - loss: 0.0020 - accuracy: 1.0000 - val_loss: 1.4482 - val_accuracy: 0.6750\n",
            "Epoch 71/100\n",
            "160/160 [==============================] - 0s 3ms/step - loss: 0.0020 - accuracy: 1.0000 - val_loss: 1.4679 - val_accuracy: 0.6700\n",
            "Epoch 72/100\n",
            "160/160 [==============================] - 0s 3ms/step - loss: 0.0020 - accuracy: 1.0000 - val_loss: 1.4650 - val_accuracy: 0.6750\n",
            "Epoch 73/100\n",
            "160/160 [==============================] - 0s 3ms/step - loss: 0.0020 - accuracy: 1.0000 - val_loss: 1.4801 - val_accuracy: 0.6700\n",
            "Epoch 74/100\n",
            "160/160 [==============================] - 0s 2ms/step - loss: 0.0020 - accuracy: 1.0000 - val_loss: 1.4724 - val_accuracy: 0.6750\n",
            "Epoch 75/100\n",
            "160/160 [==============================] - 0s 3ms/step - loss: 0.0019 - accuracy: 1.0000 - val_loss: 1.4742 - val_accuracy: 0.6700\n",
            "Epoch 76/100\n",
            "160/160 [==============================] - 0s 3ms/step - loss: 0.0019 - accuracy: 1.0000 - val_loss: 1.4892 - val_accuracy: 0.6650\n",
            "Epoch 77/100\n",
            "160/160 [==============================] - 0s 2ms/step - loss: 0.0019 - accuracy: 1.0000 - val_loss: 1.4869 - val_accuracy: 0.6700\n",
            "Epoch 78/100\n",
            "160/160 [==============================] - 0s 2ms/step - loss: 0.0019 - accuracy: 1.0000 - val_loss: 1.4728 - val_accuracy: 0.6700\n",
            "Epoch 79/100\n",
            "160/160 [==============================] - 0s 2ms/step - loss: 0.0019 - accuracy: 1.0000 - val_loss: 1.4710 - val_accuracy: 0.6750\n",
            "Epoch 80/100\n",
            "160/160 [==============================] - 0s 3ms/step - loss: 0.0018 - accuracy: 1.0000 - val_loss: 1.4712 - val_accuracy: 0.6750\n",
            "Epoch 81/100\n",
            "160/160 [==============================] - 0s 3ms/step - loss: 0.0018 - accuracy: 1.0000 - val_loss: 1.4873 - val_accuracy: 0.6700\n",
            "Epoch 82/100\n",
            "160/160 [==============================] - 0s 2ms/step - loss: 0.0018 - accuracy: 1.0000 - val_loss: 1.4850 - val_accuracy: 0.6750\n",
            "Epoch 83/100\n",
            "160/160 [==============================] - 0s 3ms/step - loss: 0.0018 - accuracy: 1.0000 - val_loss: 1.4830 - val_accuracy: 0.6700\n",
            "Epoch 84/100\n",
            "160/160 [==============================] - 0s 3ms/step - loss: 0.0018 - accuracy: 1.0000 - val_loss: 1.4857 - val_accuracy: 0.6700\n",
            "Epoch 85/100\n",
            "160/160 [==============================] - 0s 2ms/step - loss: 0.0018 - accuracy: 1.0000 - val_loss: 1.4897 - val_accuracy: 0.6750\n",
            "Epoch 86/100\n",
            "160/160 [==============================] - 0s 3ms/step - loss: 0.0017 - accuracy: 1.0000 - val_loss: 1.4924 - val_accuracy: 0.6750\n",
            "Epoch 87/100\n",
            "160/160 [==============================] - 0s 2ms/step - loss: 0.0017 - accuracy: 1.0000 - val_loss: 1.4963 - val_accuracy: 0.6700\n",
            "Epoch 88/100\n",
            "160/160 [==============================] - 0s 2ms/step - loss: 0.0017 - accuracy: 1.0000 - val_loss: 1.5008 - val_accuracy: 0.6700\n",
            "Epoch 89/100\n",
            "160/160 [==============================] - 0s 3ms/step - loss: 0.0017 - accuracy: 1.0000 - val_loss: 1.4910 - val_accuracy: 0.6700\n",
            "Epoch 90/100\n",
            "160/160 [==============================] - 0s 2ms/step - loss: 0.0017 - accuracy: 1.0000 - val_loss: 1.4975 - val_accuracy: 0.6750\n",
            "Epoch 91/100\n",
            "160/160 [==============================] - 0s 3ms/step - loss: 0.0017 - accuracy: 1.0000 - val_loss: 1.4954 - val_accuracy: 0.6700\n",
            "Epoch 92/100\n",
            "160/160 [==============================] - 0s 2ms/step - loss: 0.0016 - accuracy: 1.0000 - val_loss: 1.4964 - val_accuracy: 0.6700\n",
            "Epoch 93/100\n",
            "160/160 [==============================] - 0s 2ms/step - loss: 0.0016 - accuracy: 1.0000 - val_loss: 1.5122 - val_accuracy: 0.6700\n",
            "Epoch 94/100\n",
            "160/160 [==============================] - 0s 2ms/step - loss: 0.0016 - accuracy: 1.0000 - val_loss: 1.5077 - val_accuracy: 0.6700\n",
            "Epoch 95/100\n",
            "160/160 [==============================] - 0s 3ms/step - loss: 0.0016 - accuracy: 1.0000 - val_loss: 1.5100 - val_accuracy: 0.6700\n",
            "Epoch 96/100\n",
            "160/160 [==============================] - 0s 2ms/step - loss: 0.0016 - accuracy: 1.0000 - val_loss: 1.5215 - val_accuracy: 0.6700\n",
            "Epoch 97/100\n",
            "160/160 [==============================] - 0s 2ms/step - loss: 0.0016 - accuracy: 1.0000 - val_loss: 1.5147 - val_accuracy: 0.6700\n",
            "Epoch 98/100\n",
            "160/160 [==============================] - 0s 2ms/step - loss: 0.0016 - accuracy: 1.0000 - val_loss: 1.5103 - val_accuracy: 0.6750\n",
            "Epoch 99/100\n",
            "160/160 [==============================] - 0s 2ms/step - loss: 0.0015 - accuracy: 1.0000 - val_loss: 1.5253 - val_accuracy: 0.6700\n",
            "Epoch 100/100\n",
            "160/160 [==============================] - 0s 2ms/step - loss: 0.0015 - accuracy: 1.0000 - val_loss: 1.5175 - val_accuracy: 0.6700\n"
          ],
          "name": "stdout"
        }
      ]
    },
    {
      "cell_type": "markdown",
      "metadata": {
        "id": "0wKsQXM2LE1L",
        "colab_type": "text"
      },
      "source": [
        "Model evaluation:"
      ]
    },
    {
      "cell_type": "code",
      "metadata": {
        "id": "G3eYoiLMLHOZ",
        "colab_type": "code",
        "colab": {
          "base_uri": "https://localhost:8080/",
          "height": 52
        },
        "outputId": "c810a331-88f3-4aba-eccd-a2f71817eaaf"
      },
      "source": [
        "loss, accuracy = model.evaluate(X_train, y_train, verbose = False)\n",
        "print(\"Training Accuracy: {:.4f}\".format(accuracy))\n",
        "loss, accuracy = model.evaluate(X_test, y_test, verbose = False)\n",
        "print(\"Testing Accuracy:  {:.4f}\".format(accuracy))"
      ],
      "execution_count": 132,
      "outputs": [
        {
          "output_type": "stream",
          "text": [
            "Training Accuracy: 1.0000\n",
            "Testing Accuracy:  0.6700\n"
          ],
          "name": "stdout"
        }
      ]
    },
    {
      "cell_type": "markdown",
      "metadata": {
        "id": "Kr-aiA1pLprP",
        "colab_type": "text"
      },
      "source": [
        "Confusion matrix:"
      ]
    },
    {
      "cell_type": "code",
      "metadata": {
        "id": "CF5EHn1sLp-u",
        "colab_type": "code",
        "colab": {
          "base_uri": "https://localhost:8080/",
          "height": 52
        },
        "outputId": "5c8a1cab-2fe3-41ef-df8b-79dd15774e79"
      },
      "source": [
        "# confusion matrix\n",
        "from sklearn.metrics import confusion_matrix\n",
        "from sklearn.metrics import plot_confusion_matrix\n",
        "\n",
        "pred_labels = model.predict_classes(X_test)\n",
        "conf_matrix = confusion_matrix(y_test, pred_labels)\n",
        "plt\n",
        "print(conf_matrix)"
      ],
      "execution_count": 133,
      "outputs": [
        {
          "output_type": "stream",
          "text": [
            "[[124  15]\n",
            " [ 51  10]]\n"
          ],
          "name": "stdout"
        }
      ]
    },
    {
      "cell_type": "markdown",
      "metadata": {
        "id": "fDu5CYynLViU",
        "colab_type": "text"
      },
      "source": [
        "Plotting model evaluation:"
      ]
    },
    {
      "cell_type": "code",
      "metadata": {
        "id": "-V2VokaALX9_",
        "colab_type": "code",
        "colab": {
          "base_uri": "https://localhost:8080/",
          "height": 337
        },
        "outputId": "2d37837d-a6f6-412f-f9f2-f7d649c4c6c7"
      },
      "source": [
        "import matplotlib.pyplot as plt\n",
        "plt.style.use('ggplot')\n",
        "\n",
        "def plot_history(history):\n",
        "    acc = history.history['accuracy']\n",
        "    val_acc = history.history['val_accuracy']\n",
        "    loss = history.history['loss']\n",
        "    val_loss = history.history['val_loss']\n",
        "    x = range(1, len(acc) + 1)\n",
        "\n",
        "    plt.figure(figsize=(12, 5))\n",
        "    plt.subplot(1, 2, 1)\n",
        "    plt.plot(x, acc, 'b', label='Training acc')\n",
        "    plt.plot(x, val_acc, 'r', label='Validation acc')\n",
        "    plt.title('Training and validation accuracy')\n",
        "    plt.legend()\n",
        "    plt.subplot(1, 2, 2)\n",
        "    plt.plot(x, loss, 'b', label='Training loss')\n",
        "    plt.plot(x, val_loss, 'r', label='Validation loss')\n",
        "    plt.title('Training and validation loss')\n",
        "    plt.legend()\n",
        "\n",
        "plot_history(history)"
      ],
      "execution_count": 134,
      "outputs": [
        {
          "output_type": "display_data",
          "data": {
            "image/png": "[encoded data removed]",
            "text/plain": [
              "<Figure size 864x360 with 2 Axes>"
            ]
          },
          "metadata": {
            "tags": []
          }
        }
      ]
    }
  ]
}